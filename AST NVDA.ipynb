{
 "cells": [
  {
   "cell_type": "markdown",
   "id": "0b2d259c",
   "metadata": {},
   "source": [
    "# TP 1 Análisis de Series Temporales\n",
    "Lijtmaer - Gaddi - Brusasca - Duran - Palavecino"
   ]
  },
  {
   "cell_type": "code",
   "execution_count": null,
   "id": "57ab85c5",
   "metadata": {},
   "outputs": [],
   "source": []
  }
 ],
 "metadata": {
  "language_info": {
   "name": "python"
  }
 },
 "nbformat": 4,
 "nbformat_minor": 5
}
